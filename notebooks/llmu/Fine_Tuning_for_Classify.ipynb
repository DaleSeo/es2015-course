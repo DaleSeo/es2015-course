{
  "cells": [
    {
      "cell_type": "markdown",
      "metadata": {
        "id": "I4VcFkR6S0uI"
      },
      "source": [
        "<a target=\"_blank\" href=\"https://colab.research.google.com/github/cohere-ai/cohere-developer-experience/blob/main/notebooks/llmu/Fine_Tuning_for_Classify.ipynb\">\n",
        "  <img src=\"https://colab.research.google.com/assets/colab-badge.svg\" alt=\"Open In Colab\"/>\n",
        "</a>"
      ]
    },
    {
      "cell_type": "markdown",
      "metadata": {
        "id": "NOoAYv5ThsHg"
      },
      "source": [
        "# Fine-Tuning for Classify"
      ]
    },
    {
      "cell_type": "markdown",
      "metadata": {
        "id": "AVf0QmYJiJ22"
      },
      "source": [
        "Cohere's large language models (LLMs) have been pre-trained with a vast amount of training data, allowing them to capture how words are being used and how their meaning changes depending on the context.\n",
        "\n",
        "However, there are many cases in which getting the best model performance requires performing an additional round of training on custom user data. Creating a custom model using this process is called fine-tuning.\n",
        "\n",
        "Fine-tuning allows you to alter the model itself and customize it to excel at your specific task. In this notebook, you'll learn how to fine-tune a model for classification."
      ]
    },
    {
      "cell_type": "markdown",
      "metadata": {
        "id": "Ym4iL1kVS0uJ"
      },
      "source": [
        "## Overview\n",
        "\n",
        "We'll do the following steps:\n",
        "- **Step 1: Prepare the Dataset** - Download the dataset, select a subset, and prepare it for the Classify endpoint.\n",
        "- **Step 2: Fine-Tune the Model** - Kick off a fine-tuning job, and confirm when the model has completed training.\n",
        "- **Step 3: Use/Evaluate the Fine-Tuned Model** - Evaluate the fine-tuned model's performance on the test dataset."
      ]
    },
    {
      "cell_type": "markdown",
      "metadata": {
        "id": "QVrCaQDaQNoM"
      },
      "source": [
        "## Setup\n",
        "\n",
        "We'll start by installing the tools we'll need and then importing them."
      ]
    },
    {
      "cell_type": "code",
      "execution_count": 37,
      "metadata": {
        "id": "29uwe-jzJ9rh"
      },
      "outputs": [],
      "source": [
        "! pip install cohere -q"
      ]
    },
    {
      "cell_type": "code",
      "execution_count": 38,
      "metadata": {
        "id": "y9-RyLu7KHII"
      },
      "outputs": [],
      "source": [
        "# Import the required modules\n",
        "import os\n",
        "import json\n",
        "import cohere\n",
        "import numpy as np\n",
        "import pandas as pd\n",
        "from cohere import ClassifyExample\n",
        "from sklearn.model_selection import train_test_split\n",
        "from sklearn.metrics import accuracy_score\n",
        "from sklearn.metrics import f1_score"
      ]
    },
    {
      "cell_type": "markdown",
      "metadata": {
        "id": "qrdm__9-AT04"
      },
      "source": [
        "Fill in your Cohere API key in the next cell. To do this, begin by [signing up to Cohere](https://os.cohere.ai/) (for free!) if you haven't yet. Then get your API key [here](https://dashboard.cohere.com/api-keys)."
      ]
    },
    {
      "cell_type": "code",
      "execution_count": 39,
      "metadata": {
        "id": "AW4RsVSE4j74"
      },
      "outputs": [],
      "source": [
        "co = cohere.ClientV2(\"gUq7cy0wX6Cniu4XKfRS2Xqy8g4UVDSOZ9KBFzVC\") # Get your free API key: https://dashboard.cohere.com/api-keys"
      ]
    },
    {
      "cell_type": "code",
      "execution_count": 40,
      "metadata": {
        "id": "3wECcBJ8S0uK"
      },
      "outputs": [],
      "source": [
        "# import cohere\n",
        "# import os\n",
        "# co = cohere.ClientV2(os.getenv(\"COHERE_API_KEY\"))"
      ]
    },
    {
      "cell_type": "markdown",
      "metadata": {
        "id": "laIkCcKa40PR"
      },
      "source": [
        "## Step 1: Prepare the Dataset"
      ]
    },
    {
      "cell_type": "markdown",
      "metadata": {
        "id": "0Fil-WkzipV_"
      },
      "source": [
        "We'll use the [Airline Travel Information System (ATIS)](https://www.kaggle.com/datasets/hassanamin/atis-airlinetravelinformationsystem?select=atis_intents_train.csv) intent classification dataset [[source](https://aclanthology.org/H90-1021/)]. For demonstration purposes, we’ll take just a small portion of the dataset: 1,000 data points in total."
      ]
    },
    {
      "cell_type": "code",
      "execution_count": 41,
      "metadata": {
        "colab": {
          "base_uri": "https://localhost:8080/",
          "height": 224
        },
        "id": "gI7wMIdOrbiK",
        "outputId": "67c98d1b-495e-4638-ada9-89663044aca5"
      },
      "outputs": [
        {
          "output_type": "stream",
          "name": "stdout",
          "text": [
            "Number of entries: 1000\n"
          ]
        },
        {
          "output_type": "execute_result",
          "data": {
            "text/plain": [
              "                                               query            intent\n",
              "0   i want to fly from boston at 838 am and arriv...       atis_flight\n",
              "1   what flights are available from pittsburgh to...       atis_flight\n",
              "2   what is the arrival time in san francisco for...  atis_flight_time\n",
              "3            cheapest airfare from tacoma to orlando      atis_airfare\n",
              "4   round trip fares from pittsburgh to philadelp...      atis_airfare"
            ],
            "text/html": [
              "\n",
              "  <div id=\"df-5bd83b23-174f-4440-92ed-f4f6be070bb8\" class=\"colab-df-container\">\n",
              "    <div>\n",
              "<style scoped>\n",
              "    .dataframe tbody tr th:only-of-type {\n",
              "        vertical-align: middle;\n",
              "    }\n",
              "\n",
              "    .dataframe tbody tr th {\n",
              "        vertical-align: top;\n",
              "    }\n",
              "\n",
              "    .dataframe thead th {\n",
              "        text-align: right;\n",
              "    }\n",
              "</style>\n",
              "<table border=\"1\" class=\"dataframe\">\n",
              "  <thead>\n",
              "    <tr style=\"text-align: right;\">\n",
              "      <th></th>\n",
              "      <th>query</th>\n",
              "      <th>intent</th>\n",
              "    </tr>\n",
              "  </thead>\n",
              "  <tbody>\n",
              "    <tr>\n",
              "      <th>0</th>\n",
              "      <td>i want to fly from boston at 838 am and arriv...</td>\n",
              "      <td>atis_flight</td>\n",
              "    </tr>\n",
              "    <tr>\n",
              "      <th>1</th>\n",
              "      <td>what flights are available from pittsburgh to...</td>\n",
              "      <td>atis_flight</td>\n",
              "    </tr>\n",
              "    <tr>\n",
              "      <th>2</th>\n",
              "      <td>what is the arrival time in san francisco for...</td>\n",
              "      <td>atis_flight_time</td>\n",
              "    </tr>\n",
              "    <tr>\n",
              "      <th>3</th>\n",
              "      <td>cheapest airfare from tacoma to orlando</td>\n",
              "      <td>atis_airfare</td>\n",
              "    </tr>\n",
              "    <tr>\n",
              "      <th>4</th>\n",
              "      <td>round trip fares from pittsburgh to philadelp...</td>\n",
              "      <td>atis_airfare</td>\n",
              "    </tr>\n",
              "  </tbody>\n",
              "</table>\n",
              "</div>\n",
              "    <div class=\"colab-df-buttons\">\n",
              "\n",
              "  <div class=\"colab-df-container\">\n",
              "    <button class=\"colab-df-convert\" onclick=\"convertToInteractive('df-5bd83b23-174f-4440-92ed-f4f6be070bb8')\"\n",
              "            title=\"Convert this dataframe to an interactive table.\"\n",
              "            style=\"display:none;\">\n",
              "\n",
              "  <svg xmlns=\"http://www.w3.org/2000/svg\" height=\"24px\" viewBox=\"0 -960 960 960\">\n",
              "    <path d=\"M120-120v-720h720v720H120Zm60-500h600v-160H180v160Zm220 220h160v-160H400v160Zm0 220h160v-160H400v160ZM180-400h160v-160H180v160Zm440 0h160v-160H620v160ZM180-180h160v-160H180v160Zm440 0h160v-160H620v160Z\"/>\n",
              "  </svg>\n",
              "    </button>\n",
              "\n",
              "  <style>\n",
              "    .colab-df-container {\n",
              "      display:flex;\n",
              "      gap: 12px;\n",
              "    }\n",
              "\n",
              "    .colab-df-convert {\n",
              "      background-color: #E8F0FE;\n",
              "      border: none;\n",
              "      border-radius: 50%;\n",
              "      cursor: pointer;\n",
              "      display: none;\n",
              "      fill: #1967D2;\n",
              "      height: 32px;\n",
              "      padding: 0 0 0 0;\n",
              "      width: 32px;\n",
              "    }\n",
              "\n",
              "    .colab-df-convert:hover {\n",
              "      background-color: #E2EBFA;\n",
              "      box-shadow: 0px 1px 2px rgba(60, 64, 67, 0.3), 0px 1px 3px 1px rgba(60, 64, 67, 0.15);\n",
              "      fill: #174EA6;\n",
              "    }\n",
              "\n",
              "    .colab-df-buttons div {\n",
              "      margin-bottom: 4px;\n",
              "    }\n",
              "\n",
              "    [theme=dark] .colab-df-convert {\n",
              "      background-color: #3B4455;\n",
              "      fill: #D2E3FC;\n",
              "    }\n",
              "\n",
              "    [theme=dark] .colab-df-convert:hover {\n",
              "      background-color: #434B5C;\n",
              "      box-shadow: 0px 1px 3px 1px rgba(0, 0, 0, 0.15);\n",
              "      filter: drop-shadow(0px 1px 2px rgba(0, 0, 0, 0.3));\n",
              "      fill: #FFFFFF;\n",
              "    }\n",
              "  </style>\n",
              "\n",
              "    <script>\n",
              "      const buttonEl =\n",
              "        document.querySelector('#df-5bd83b23-174f-4440-92ed-f4f6be070bb8 button.colab-df-convert');\n",
              "      buttonEl.style.display =\n",
              "        google.colab.kernel.accessAllowed ? 'block' : 'none';\n",
              "\n",
              "      async function convertToInteractive(key) {\n",
              "        const element = document.querySelector('#df-5bd83b23-174f-4440-92ed-f4f6be070bb8');\n",
              "        const dataTable =\n",
              "          await google.colab.kernel.invokeFunction('convertToInteractive',\n",
              "                                                    [key], {});\n",
              "        if (!dataTable) return;\n",
              "\n",
              "        const docLinkHtml = 'Like what you see? Visit the ' +\n",
              "          '<a target=\"_blank\" href=https://colab.research.google.com/notebooks/data_table.ipynb>data table notebook</a>'\n",
              "          + ' to learn more about interactive tables.';\n",
              "        element.innerHTML = '';\n",
              "        dataTable['output_type'] = 'display_data';\n",
              "        await google.colab.output.renderOutput(dataTable, element);\n",
              "        const docLink = document.createElement('div');\n",
              "        docLink.innerHTML = docLinkHtml;\n",
              "        element.appendChild(docLink);\n",
              "      }\n",
              "    </script>\n",
              "  </div>\n",
              "\n",
              "\n",
              "    <div id=\"df-32c5ff70-a080-4e81-a038-007a0e7ded5f\">\n",
              "      <button class=\"colab-df-quickchart\" onclick=\"quickchart('df-32c5ff70-a080-4e81-a038-007a0e7ded5f')\"\n",
              "                title=\"Suggest charts\"\n",
              "                style=\"display:none;\">\n",
              "\n",
              "<svg xmlns=\"http://www.w3.org/2000/svg\" height=\"24px\"viewBox=\"0 0 24 24\"\n",
              "     width=\"24px\">\n",
              "    <g>\n",
              "        <path d=\"M19 3H5c-1.1 0-2 .9-2 2v14c0 1.1.9 2 2 2h14c1.1 0 2-.9 2-2V5c0-1.1-.9-2-2-2zM9 17H7v-7h2v7zm4 0h-2V7h2v10zm4 0h-2v-4h2v4z\"/>\n",
              "    </g>\n",
              "</svg>\n",
              "      </button>\n",
              "\n",
              "<style>\n",
              "  .colab-df-quickchart {\n",
              "      --bg-color: #E8F0FE;\n",
              "      --fill-color: #1967D2;\n",
              "      --hover-bg-color: #E2EBFA;\n",
              "      --hover-fill-color: #174EA6;\n",
              "      --disabled-fill-color: #AAA;\n",
              "      --disabled-bg-color: #DDD;\n",
              "  }\n",
              "\n",
              "  [theme=dark] .colab-df-quickchart {\n",
              "      --bg-color: #3B4455;\n",
              "      --fill-color: #D2E3FC;\n",
              "      --hover-bg-color: #434B5C;\n",
              "      --hover-fill-color: #FFFFFF;\n",
              "      --disabled-bg-color: #3B4455;\n",
              "      --disabled-fill-color: #666;\n",
              "  }\n",
              "\n",
              "  .colab-df-quickchart {\n",
              "    background-color: var(--bg-color);\n",
              "    border: none;\n",
              "    border-radius: 50%;\n",
              "    cursor: pointer;\n",
              "    display: none;\n",
              "    fill: var(--fill-color);\n",
              "    height: 32px;\n",
              "    padding: 0;\n",
              "    width: 32px;\n",
              "  }\n",
              "\n",
              "  .colab-df-quickchart:hover {\n",
              "    background-color: var(--hover-bg-color);\n",
              "    box-shadow: 0 1px 2px rgba(60, 64, 67, 0.3), 0 1px 3px 1px rgba(60, 64, 67, 0.15);\n",
              "    fill: var(--button-hover-fill-color);\n",
              "  }\n",
              "\n",
              "  .colab-df-quickchart-complete:disabled,\n",
              "  .colab-df-quickchart-complete:disabled:hover {\n",
              "    background-color: var(--disabled-bg-color);\n",
              "    fill: var(--disabled-fill-color);\n",
              "    box-shadow: none;\n",
              "  }\n",
              "\n",
              "  .colab-df-spinner {\n",
              "    border: 2px solid var(--fill-color);\n",
              "    border-color: transparent;\n",
              "    border-bottom-color: var(--fill-color);\n",
              "    animation:\n",
              "      spin 1s steps(1) infinite;\n",
              "  }\n",
              "\n",
              "  @keyframes spin {\n",
              "    0% {\n",
              "      border-color: transparent;\n",
              "      border-bottom-color: var(--fill-color);\n",
              "      border-left-color: var(--fill-color);\n",
              "    }\n",
              "    20% {\n",
              "      border-color: transparent;\n",
              "      border-left-color: var(--fill-color);\n",
              "      border-top-color: var(--fill-color);\n",
              "    }\n",
              "    30% {\n",
              "      border-color: transparent;\n",
              "      border-left-color: var(--fill-color);\n",
              "      border-top-color: var(--fill-color);\n",
              "      border-right-color: var(--fill-color);\n",
              "    }\n",
              "    40% {\n",
              "      border-color: transparent;\n",
              "      border-right-color: var(--fill-color);\n",
              "      border-top-color: var(--fill-color);\n",
              "    }\n",
              "    60% {\n",
              "      border-color: transparent;\n",
              "      border-right-color: var(--fill-color);\n",
              "    }\n",
              "    80% {\n",
              "      border-color: transparent;\n",
              "      border-right-color: var(--fill-color);\n",
              "      border-bottom-color: var(--fill-color);\n",
              "    }\n",
              "    90% {\n",
              "      border-color: transparent;\n",
              "      border-bottom-color: var(--fill-color);\n",
              "    }\n",
              "  }\n",
              "</style>\n",
              "\n",
              "      <script>\n",
              "        async function quickchart(key) {\n",
              "          const quickchartButtonEl =\n",
              "            document.querySelector('#' + key + ' button');\n",
              "          quickchartButtonEl.disabled = true;  // To prevent multiple clicks.\n",
              "          quickchartButtonEl.classList.add('colab-df-spinner');\n",
              "          try {\n",
              "            const charts = await google.colab.kernel.invokeFunction(\n",
              "                'suggestCharts', [key], {});\n",
              "          } catch (error) {\n",
              "            console.error('Error during call to suggestCharts:', error);\n",
              "          }\n",
              "          quickchartButtonEl.classList.remove('colab-df-spinner');\n",
              "          quickchartButtonEl.classList.add('colab-df-quickchart-complete');\n",
              "        }\n",
              "        (() => {\n",
              "          let quickchartButtonEl =\n",
              "            document.querySelector('#df-32c5ff70-a080-4e81-a038-007a0e7ded5f button');\n",
              "          quickchartButtonEl.style.display =\n",
              "            google.colab.kernel.accessAllowed ? 'block' : 'none';\n",
              "        })();\n",
              "      </script>\n",
              "    </div>\n",
              "\n",
              "    </div>\n",
              "  </div>\n"
            ],
            "application/vnd.google.colaboratory.intrinsic+json": {
              "type": "dataframe",
              "variable_name": "df",
              "summary": "{\n  \"name\": \"df\",\n  \"rows\": 1000,\n  \"fields\": [\n    {\n      \"column\": \"query\",\n      \"properties\": {\n        \"dtype\": \"string\",\n        \"num_unique_values\": 1000,\n        \"samples\": [\n          \" i need a flight from st. petersburg to charlotte which will get me into charlotte by 5 pm or as soon thereafter as possible\",\n          \" what is the earliest flight from washington to san francisco on friday that serves breakfast\",\n          \" what flights are available with q fares from boston to pittsburgh\"\n        ],\n        \"semantic_type\": \"\",\n        \"description\": \"\"\n      }\n    },\n    {\n      \"column\": \"intent\",\n      \"properties\": {\n        \"dtype\": \"category\",\n        \"num_unique_values\": 8,\n        \"samples\": [\n          \"atis_flight_time\",\n          \"atis_airline\",\n          \"atis_flight\"\n        ],\n        \"semantic_type\": \"\",\n        \"description\": \"\"\n      }\n    }\n  ]\n}"
            }
          },
          "metadata": {},
          "execution_count": 41
        }
      ],
      "source": [
        "# Load the dataset to a dataframe\n",
        "df = pd.read_csv('https://raw.githubusercontent.com/cohere-ai/cohere-developer-experience/main/notebooks/data/atis_subset.csv', names=['query','intent'])\n",
        "print(\"Number of entries:\", len(df))\n",
        "df.head()"
      ]
    },
    {
      "cell_type": "markdown",
      "metadata": {
        "id": "CJIkKk9-AT07"
      },
      "source": [
        "The first thing we need is to create a training dataset, to be used for building the classifier, and a test dataset, to be used for testing the classifier performance. We will use 800 and 200 data points for these datasets, respectively."
      ]
    },
    {
      "cell_type": "code",
      "execution_count": 42,
      "metadata": {
        "id": "cM-2KGlQe80t"
      },
      "outputs": [],
      "source": [
        "# Split the dataset into training and test portions\n",
        "df_train, df_test = train_test_split(df, test_size=200, random_state=21)"
      ]
    },
    {
      "cell_type": "markdown",
      "metadata": {
        "id": "xSfHL3OnAT07"
      },
      "source": [
        "Our goal is to train the classifier so it can predict the class of a new customer inquiry out of eight classes, as follows:"
      ]
    },
    {
      "cell_type": "code",
      "execution_count": 43,
      "metadata": {
        "colab": {
          "base_uri": "https://localhost:8080/"
        },
        "id": "-J-T5ZKP5s0t",
        "outputId": "024997fd-12ea-41bd-f311-642decae66cf"
      },
      "outputs": [
        {
          "output_type": "stream",
          "name": "stdout",
          "text": [
            "['atis_flight', 'atis_airfare', 'atis_ground_service', 'atis_flight_time', 'atis_airline', 'atis_quantity', 'atis_abbreviation', 'atis_aircraft']\n"
          ]
        }
      ],
      "source": [
        "# View the list of all available categories\n",
        "intents = df_train.intent.unique().tolist()\n",
        "print(intents)"
      ]
    },
    {
      "cell_type": "markdown",
      "metadata": {
        "id": "8k5CoStyVEGe"
      },
      "source": [
        "We transform the data to JSONL format to match the style expected by the Classification endpoint ([documentation](https://docs.cohere.com/docs/classify-preparing-the-data))."
      ]
    },
    {
      "cell_type": "code",
      "execution_count": 44,
      "metadata": {
        "colab": {
          "base_uri": "https://localhost:8080/"
        },
        "id": "DidOiKmnU9nn",
        "outputId": "fabbfb13-02e3-40ad-fa28-190dac0cb32e"
      },
      "outputs": [
        {
          "output_type": "stream",
          "name": "stdout",
          "text": [
            "data.jsonl file already exists\n"
          ]
        }
      ],
      "source": [
        "def create_classification_data(text, label):\n",
        "    formatted_data = {\n",
        "        \"text\": text,\n",
        "        \"label\": label\n",
        "    }\n",
        "    return formatted_data\n",
        "\n",
        "if not os.path.isfile(\"data.jsonl\"):\n",
        "    print(\"Creating jsonl file ...\")\n",
        "    with open(\"data.jsonl\", 'w+') as file:\n",
        "        for row in df_train.itertuples():\n",
        "            formatted_data = create_classification_data(row.query, row.intent)\n",
        "            file.write(json.dumps(formatted_data) + '\\n')\n",
        "        file.close()\n",
        "        print(\"Done\")\n",
        "else:\n",
        "    print(\"data.jsonl file already exists\")"
      ]
    },
    {
      "cell_type": "markdown",
      "metadata": {
        "id": "RkxARuVbZJww"
      },
      "source": [
        "The JSONL file has a row for each example.  Each example has \"text\" and \"label\" fields."
      ]
    },
    {
      "cell_type": "code",
      "execution_count": 45,
      "metadata": {
        "id": "-2l3HpVEZHEe",
        "outputId": "595e21d9-e79c-405b-e3e2-e2ea9bde4ca0",
        "colab": {
          "base_uri": "https://localhost:8080/"
        }
      },
      "outputs": [
        {
          "output_type": "stream",
          "name": "stdout",
          "text": [
            "{\"text\": \" what flights go from newark to boston after 5 pm\", \"label\": \"atis_flight\"}\n",
            "{\"text\": \" can you show me economy class one way fares for flights from oakland to dallas on december sixteenth\", \"label\": \"atis_airfare\"}\n",
            "{\"text\": \" show me the latest flight from salt lake city to phoenix\", \"label\": \"atis_flight\"}\n",
            "{\"text\": \" pittsburgh to denver\", \"label\": \"atis_flight\"}\n",
            "{\"text\": \" show me all flights from san francisco to atlanta\", \"label\": \"atis_flight\"}\n"
          ]
        }
      ],
      "source": [
        "# Load jsonl file and print first 5 lines\n",
        "N = 5\n",
        "with open(\"data.jsonl\") as f:\n",
        "    for i in range(0, N):\n",
        "        print(f.readline(), end = '')"
      ]
    },
    {
      "cell_type": "markdown",
      "metadata": {
        "id": "2hg1F5GfZRZa"
      },
      "source": [
        "## Step 2: Fine-Tune the Model\n",
        "\n",
        "We kick off a fine-tuning job by navigating to the [fine-tuning tab of the Dashboard](https://dashboard.cohere.com/fine-tuning).  Under \"Classify\", click on \"Create a Classify model\".\n",
        "\n",
        "<img src=\"https://files.readme.io/48dad78-cohere_dashboard.png\">\n",
        "\n",
        "Next, upload the `.jsonl` file you just created as the training set by clicking on the \"TRAINING SET\" button. When ready, click on \"Review data\" to proceed to the next step.\n",
        "\n",
        "<img src=\"https://files.readme.io/9c83f64-classify_data.png\">\n",
        "\n",
        "Then, you'll see a preview of how the model will ingest your data. If anything is wrong with the data, the page will also provide suggested changes to fix the training file. Otherwise, if everything looks good, you can proceed to the next step.\n",
        "\n",
        "<img src=\"https://files.readme.io/d14803d-atis_review_data.png\">\n",
        "\n",
        "Finally, you'll see a page where you'll provide a nickname to your model. We used `atis-classify-ft` as the nickname for our model. Under \"BASE MODEL\", ensure \"english\" is selected.\n",
        "\n",
        "<img src=\"https://files.readme.io/456ba27-model_nickname_select.png\">\n",
        "\n",
        "Then click on \"Start training\" to kick off the fine-tuning process. This will navigate you to a page where you can monitor the status of the model. A model that has finished fine-tuning will show the status as `READY`.\n",
        "\n",
        "<img src=\"https://files.readme.io/48a2e02-atis_model_ready.png\">"
      ]
    },
    {
      "cell_type": "markdown",
      "metadata": {
        "id": "DJDDq9kdCMvH"
      },
      "source": [
        "## Step 3: Use/Evaluate the Fine-Tuned Model\n",
        "\n",
        "Once the model has finished fine-tuning, it’s time to evaluate its performance. Navigate to the API tab of the fine-tuned model. There, you'll see the model ID that you should use when calling `co.classify()`.\n",
        "\n",
        "<img src=\"https://files.readme.io/580ff8c-get_model_ID.png\">\n",
        "\n",
        "We fill in the model ID to generate test predictions."
      ]
    },
    {
      "cell_type": "code",
      "execution_count": 46,
      "metadata": {
        "id": "Mq8sj5Fn0OuE"
      },
      "outputs": [],
      "source": [
        "# Generate classification predictions on the test dataset using the finetuned model\n",
        "\n",
        "# Classification function\n",
        "def classify_text_finetune(texts):\n",
        "    classifications = co.classify(\n",
        "        model='8122d2bf-6da3-438a-8d46-d0fc7cb01b7e-ft',\n",
        "        inputs=texts,\n",
        "        examples=None\n",
        "    ).classifications\n",
        "    return [c.predictions[0] for c in classifications]\n",
        "\n",
        "# Create batches of texts and classify them\n",
        "BATCH_SIZE = 90 # The API accepts a maximum of 96 inputs\n",
        "y_pred = []\n",
        "for i in range(0, len(df_test), BATCH_SIZE):\n",
        "    batch_texts = df_test[\"query\"][i:i+BATCH_SIZE].tolist()\n",
        "    y_pred.extend(classify_text_finetune(batch_texts))"
      ]
    },
    {
      "cell_type": "markdown",
      "metadata": {
        "id": "P0jYvZK9AT1E"
      },
      "source": [
        "Next, we calculate the model's test accuracy and F1 score."
      ]
    },
    {
      "cell_type": "code",
      "execution_count": 47,
      "metadata": {
        "colab": {
          "base_uri": "https://localhost:8080/"
        },
        "id": "qJ961ixH9kbf",
        "outputId": "8eab7e7f-4bd2-4927-d98b-e25bbdaee864",
        "scrolled": true
      },
      "outputs": [
        {
          "output_type": "stream",
          "name": "stdout",
          "text": [
            "Accuracy: 94.50\n",
            "F1-score: 93.61\n"
          ]
        }
      ],
      "source": [
        "# Compute metrics on the test dataset\n",
        "accuracy = accuracy_score(df_test[\"intent\"], y_pred)\n",
        "f1 = f1_score(df_test[\"intent\"], y_pred, average='weighted')\n",
        "\n",
        "print(f'Accuracy: {100*accuracy:.2f}')\n",
        "print(f'F1-score: {100*f1:.2f}')"
      ]
    }
  ],
  "metadata": {
    "colab": {
      "provenance": []
    },
    "kernelspec": {
      "display_name": "base",
      "language": "python",
      "name": "base"
    },
    "language_info": {
      "codemirror_mode": {
        "name": "ipython",
        "version": 3
      },
      "file_extension": ".py",
      "mimetype": "text/x-python",
      "name": "python",
      "nbconvert_exporter": "python",
      "pygments_lexer": "ipython3",
      "version": "3.11.4"
    },
    "vscode": {
      "interpreter": {
        "hash": "1fb8019e3560b882083e525615cf48e713d3a7345a15eb723d805e91aa410aac"
      }
    }
  },
  "nbformat": 4,
  "nbformat_minor": 0
}